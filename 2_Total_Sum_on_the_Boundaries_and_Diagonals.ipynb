{
  "nbformat": 4,
  "nbformat_minor": 0,
  "metadata": {
    "colab": {
      "name": "2.Total Sum on the Boundaries and Diagonals.ipynb",
      "provenance": [],
      "authorship_tag": "ABX9TyMOo2uryD+0JDbuKyr6eFts",
      "include_colab_link": true
    },
    "kernelspec": {
      "name": "python3",
      "display_name": "Python 3"
    }
  },
  "cells": [
    {
      "cell_type": "markdown",
      "metadata": {
        "id": "view-in-github",
        "colab_type": "text"
      },
      "source": [
        "<a href=\"https://colab.research.google.com/github/zenithexpo/CompetitiveProgramming/blob/master/2_Total_Sum_on_the_Boundaries_and_Diagonals.ipynb\" target=\"_parent\"><img src=\"https://colab.research.google.com/assets/colab-badge.svg\" alt=\"Open In Colab\"/></a>"
      ]
    },
    {
      "cell_type": "markdown",
      "metadata": {
        "id": "KEGLTndta8zK"
      },
      "source": [
        "## **Total Sum on the Boundaries and Diagonals**"
      ]
    },
    {
      "cell_type": "markdown",
      "metadata": {
        "id": "e9a4U8tpbFel"
      },
      "source": [
        "For a given two-dimensional square matrix of size (N x N). Find the total sum of elements on both the diagonals and at all the four boundaries.\n",
        "\n",
        "---\n",
        "\n",
        "\n",
        "Input format:\n",
        "\n",
        "\n",
        "```\n",
        "The first line contains an Integer 't' which denotes the number of test cases or queries to be run. Then the test cases follow.\n",
        "\n",
        "First line of each test case or query contains a single integer value, 'N' representing the 'rows' and 'columns' for the two-dimensional square matrix.\n",
        "\n",
        "Second line onwards, the next 'N' lines or rows represent the ith row values.\n",
        "\n",
        "Each of the ith row constitutes 'N' column values separated by a single space.\n",
        "\n",
        "\n",
        "Output format:\n",
        "For each test case, print the single integer denoting the sum.\n",
        "\n",
        "Output for every test case will be printed in a seperate line.\n",
        "Constraints:\n",
        "1 <= t <= 10^2\n",
        "0 <= N <= 10^3\n",
        "Time Limit: 1sec\n",
        "Sample input 1:\n",
        "1\n",
        "3\n",
        "1 2 3\n",
        "4 5 6\n",
        "7 8 9\n",
        "Sample Output 1:\n",
        "45\n",
        "Explanation for Sample Output 1:\n",
        "The boundary elements are 1, 2, 3, 6, 9, 8, 7 and 4. \n",
        "\n",
        "The first-diagonal elements are 1, 5 and 9. \n",
        "\n",
        "The second-diagonal elements are 3, 5 and 7.\n",
        "\n",
        "We just need to add all these numbers making sure that no number is added twice. For example, '1' is both a boundary element and a first-diagonal element similarly, '5' contributes to both the diagonals but they won't be added twice.\n",
        "\n",
        "Hence, we add up, [1 + 2 + 3 + 6 + 9 + 8 + 7 + 4 + 5] to give 45 as the output.\n",
        "Sample input 2:\n",
        "2\n",
        "5\n",
        "1 2 3 4 5\n",
        "6 7 8 9 10\n",
        "11 12 13 14 15\n",
        "16 17 18 19 20\n",
        "21 22 23 24 25\n",
        "4\n",
        "1 2 3 10\n",
        "4 5 6 11\n",
        "7 8 9 12\n",
        "13 14 15 16\n",
        "Sample Output 2:\n",
        "273\n",
        "136\n",
        "```"
      ]
    },
    {
      "cell_type": "code",
      "metadata": {
        "id": "xDaB5rZ_bBS-",
        "outputId": "27debc23-4966-4a0d-e686-13a739a6a53b",
        "colab": {
          "base_uri": "https://localhost:8080/",
          "height": 134
        }
      },
      "source": [
        "n=int(input())\n",
        "li=[]\n",
        "su=0\n",
        "for i in range(n):\n",
        "    l=list(map(int,input().split()))\n",
        "    li.append(l)\n",
        "\n",
        "#one step at a time\n",
        "\n",
        "for i in range(n):\n",
        "    su+=li[i][i]\n",
        "    \n",
        "for i in range(n):\n",
        "    if i!=n//2:\n",
        "        su+=li[i][n-1-i]\n",
        "        \n",
        "for i in range(1,n-1):\n",
        "\tsu+=li[i][0]\n",
        "\tsu+=li[i][n-1]\n",
        "\tsu+=li[0][i]\n",
        "\tsu+=li[n-1][i]\n",
        "    \n",
        "\n",
        "        \n",
        "\n",
        "    \n",
        "print(su)"
      ],
      "execution_count": null,
      "outputs": [
        {
          "output_type": "stream",
          "text": [
            "5\n",
            "1 2 3 4 5\n",
            "6 7 8 9 10\n",
            "11 12 13 14 15\n",
            "16 17 18 19 20\n",
            "21 22 23 24 25\n",
            "273\n"
          ],
          "name": "stdout"
        }
      ]
    },
    {
      "cell_type": "code",
      "metadata": {
        "id": "3jiOgWjqbqVN"
      },
      "source": [
        ""
      ],
      "execution_count": null,
      "outputs": []
    }
  ]
}